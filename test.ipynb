{
 "metadata": {
  "language_info": {
   "codemirror_mode": {
    "name": "ipython",
    "version": 3
   },
   "file_extension": ".py",
   "mimetype": "text/x-python",
   "name": "python",
   "nbconvert_exporter": "python",
   "pygments_lexer": "ipython3",
   "version": "3.8.2-final"
  },
  "orig_nbformat": 2,
  "kernelspec": {
   "name": "Python 3.8.2 64-bit",
   "display_name": "Python 3.8.2 64-bit",
   "metadata": {
    "interpreter": {
     "hash": "20bf69066c0dd38d51965b69d5e1b6e387082e3198ba56e97997ac55f4e50ad0"
    }
   }
  }
 },
 "nbformat": 4,
 "nbformat_minor": 2,
 "cells": [
  {
   "cell_type": "code",
   "execution_count": 493,
   "metadata": {},
   "outputs": [],
   "source": [
    "import pandas as pd\n",
    "import csv\n",
    "import numpy as np\n",
    "import pprint"
   ]
  },
  {
   "cell_type": "code",
   "execution_count": 494,
   "metadata": {},
   "outputs": [],
   "source": [
    "# DataFrameの定義\n",
    "dfRank = pd.DataFrame(columns=[\"title\",\"artist\"])"
   ]
  },
  {
   "cell_type": "code",
   "execution_count": 498,
   "metadata": {},
   "outputs": [],
   "source": [
    "# csvデータの読み込み\n",
    "date = \"2020-10-24\"\n",
    "f = open((\"./fmfukuoka_{}.csv\").format(date))\n",
    "reader = csv.reader(f)\n",
    "tableThisweek = []\n",
    "next(reader)\n",
    "for r in reader:\n",
    "    tableThisweek.append(r)"
   ]
  },
  {
   "cell_type": "code",
   "execution_count": 499,
   "metadata": {},
   "outputs": [],
   "source": [
    "# 列の追加\n",
    "dfRank[date] = np.nan"
   ]
  },
  {
   "cell_type": "code",
   "execution_count": 500,
   "metadata": {},
   "outputs": [
    {
     "output_type": "stream",
     "name": "stdout",
     "text": [
      "['1', '8', '-', 'ハニーメモリー', 'aiko']\n['2', '3', '19', 'Boogie Ride', '久保田利伸']\n['3', '9', '-', 'Super good', '藤原さくら']\n['4', '1', '5', 'BACKSTAY', 'さかいゆう']\n['5', '5', '17', '散りてなお', '手嶌葵']\n['6', '2', '4', 'ギガアイシテル', 'レキシ']\n['7', '4', '1', 'turn over?', 'Mr.Children']\n['8', '7', '2', 'Time Warp', 'Perfume']\n['9', '16', '-', 'Juliet', 'D.Y.T']\n['10', '18', '-', '東京は燃えてる', 'GLIM SPANKY']\n['11', '24', '-', '化かしHOUR NIGHT', 'ビッケブランカ VS 岡崎体育']\n['12', '14', '21', 'Letter', 'Surrounded By Enemies']\n['13', '15', '22', 'Out of Reach', 'BANANAGUN']\n['14', '6', '3', 'Gravity', 'BUMP OF CHICKEN']\n['15', '23', '-', 'アカシア', 'BUMP OF CHICKEN']\n['16', '25', '-', '未来予想図II - DOSCO prime Version -', 'DREAMS COME TRUE']\n['17', '10', '7', '朝陽', 'あいみょん']\n['18', 'NEW', '-', 'ランドリー', 'LUCKY TAPES']\nランドリー\n['19', 'NEW', '-', '炎', 'LiSA']\n炎\n['20', 'NEW', '-', '風を食む', 'ヨルシカ']\n風を食む\n['21', 'NEW', '-', 'Bill', 'Naz']\nBill\n['22', 'NEW', '-', 'あの子のダーリン', 'カノエラナ']\nあの子のダーリン\n['23', 'RE', '16', 'DeadRock', 'みゆな']\nDeadRock\n['24', '28', '-', 'Here We Go Around Again (1990)', 'Mariah Carey']\n['25', 'NEW', '-', 'ティーンエイジペイン', '林萌々子']\nティーンエイジペイン\n['26', 'NEW', '-', '落日', '森山直太朗']\n落日\n['27', 'NEW', '-', 'Say So -Japanese version- tofubeats Remix', 'Rainych']\nSay So -Japanese version- tofubeats Remix\n['28', 'RE', '23', \"Singin' for...\", '和楽器バンド']\nSingin' for...\n['29', 'NEW', '-', 'お願いマーシー', 'THE COLLECTORS']\nお願いマーシー\n['30', 'RE', '27', 'EYE', 'LAMP IN TERREN']\nEYE\n"
     ]
    },
    {
     "output_type": "display_data",
     "data": {
      "text/plain": "                                              title  \\\n0                                          BACKSTAY   \n1                                           ギガアイシテル   \n2                                       Boogie Ride   \n3                                        turn over?   \n4                                             散りてなお   \n5                                           Gravity   \n6                                         Time Warp   \n7                                           ハニーメモリー   \n8                                        Super good   \n9                                                朝陽   \n10                                          Trouble   \n11                              Favorite Rendezvous   \n12                              何言ってるか分かんないけど何かいい感じ   \n13                                           Letter   \n14                                     Out of Reach   \n15                                           Juliet   \n16                               あのねこの話 feat. クボタカイ   \n17                                          東京は燃えてる   \n18                                      GO STRAIGHT   \n19                                        夜とシンセサイザー   \n20                                            大迷惑星。   \n21  When We Disco (Duet with SUNMI) -Japanese ver.-   \n22                                             アカシア   \n23                                    化かしHOUR NIGHT   \n24                  未来予想図II - DOSCO prime Version -   \n25                                   Love Your Love   \n26                                       The Moment   \n27                   Here We Go Around Again (1990)   \n28                                Love Looks Better   \n29                                           ダイアローグ   \n30                                            ランドリー   \n31                                                炎   \n32                                             風を食む   \n33                                             Bill   \n34                                         あの子のダーリン   \n35                                         DeadRock   \n36                                       ティーンエイジペイン   \n37                                               落日   \n38        Say So -Japanese version- tofubeats Remix   \n39                                   Singin' for...   \n40                                          お願いマーシー   \n41                                              EYE   \n\n                             artist 2020-10-18 2020-10-24  \n0                             さかいゆう          1          4  \n1                               レキシ          2          6  \n2                             久保田利伸          3          2  \n3                       Mr.Children          4          7  \n4                               手嶌葵          5          5  \n5                   BUMP OF CHICKEN          6         14  \n6                           Perfume          7          8  \n7                              aiko          8          1  \n8                             藤原さくら          9          3  \n9                             あいみょん         10         17  \n10                      LUCKY TAPES         11        NaN  \n11                            大橋トリオ         12        NaN  \n12                          Okayuka         13        NaN  \n13            Surrounded By Enemies         14         12  \n14                        BANANAGUN         15         13  \n15                            D.Y.T         16          9  \n16                              みゆな         17        NaN  \n17                      GLIM SPANKY         18         10  \n18  クニタケ ヒロキ　from THE FOREVER YOUNG         19        NaN  \n19                Lucky Kilimanjaro         20        NaN  \n20                            當山みれい         21        NaN  \n21                        J.Y. Park         22        NaN  \n22                  BUMP OF CHICKEN         23         15  \n23                  ビッケブランカ VS 岡崎体育         24         11  \n24                 DREAMS COME TRUE         25         16  \n25                            竹内アンナ         26        NaN  \n26                            Ryohu         27        NaN  \n27                     Mariah Carey         28         24  \n28                      Alicia　Keys         29        NaN  \n29         ASIAN KUNG-FU GENERATION         30        NaN  \n30                      LUCKY TAPES        NaN         18  \n31                             LiSA        NaN         19  \n32                             ヨルシカ        NaN         20  \n33                              Naz        NaN         21  \n34                            カノエラナ        NaN         22  \n35                              みゆな        NaN         23  \n36                             林萌々子        NaN         25  \n37                            森山直太朗        NaN         26  \n38                          Rainych        NaN         27  \n39                           和楽器バンド        NaN         28  \n40                   THE COLLECTORS        NaN         29  \n41                   LAMP IN TERREN        NaN         30  ",
      "text/html": "<div>\n<style scoped>\n    .dataframe tbody tr th:only-of-type {\n        vertical-align: middle;\n    }\n\n    .dataframe tbody tr th {\n        vertical-align: top;\n    }\n\n    .dataframe thead th {\n        text-align: right;\n    }\n</style>\n<table border=\"1\" class=\"dataframe\">\n  <thead>\n    <tr style=\"text-align: right;\">\n      <th></th>\n      <th>title</th>\n      <th>artist</th>\n      <th>2020-10-18</th>\n      <th>2020-10-24</th>\n    </tr>\n  </thead>\n  <tbody>\n    <tr>\n      <th>0</th>\n      <td>BACKSTAY</td>\n      <td>さかいゆう</td>\n      <td>1</td>\n      <td>4</td>\n    </tr>\n    <tr>\n      <th>1</th>\n      <td>ギガアイシテル</td>\n      <td>レキシ</td>\n      <td>2</td>\n      <td>6</td>\n    </tr>\n    <tr>\n      <th>2</th>\n      <td>Boogie Ride</td>\n      <td>久保田利伸</td>\n      <td>3</td>\n      <td>2</td>\n    </tr>\n    <tr>\n      <th>3</th>\n      <td>turn over?</td>\n      <td>Mr.Children</td>\n      <td>4</td>\n      <td>7</td>\n    </tr>\n    <tr>\n      <th>4</th>\n      <td>散りてなお</td>\n      <td>手嶌葵</td>\n      <td>5</td>\n      <td>5</td>\n    </tr>\n    <tr>\n      <th>5</th>\n      <td>Gravity</td>\n      <td>BUMP OF CHICKEN</td>\n      <td>6</td>\n      <td>14</td>\n    </tr>\n    <tr>\n      <th>6</th>\n      <td>Time Warp</td>\n      <td>Perfume</td>\n      <td>7</td>\n      <td>8</td>\n    </tr>\n    <tr>\n      <th>7</th>\n      <td>ハニーメモリー</td>\n      <td>aiko</td>\n      <td>8</td>\n      <td>1</td>\n    </tr>\n    <tr>\n      <th>8</th>\n      <td>Super good</td>\n      <td>藤原さくら</td>\n      <td>9</td>\n      <td>3</td>\n    </tr>\n    <tr>\n      <th>9</th>\n      <td>朝陽</td>\n      <td>あいみょん</td>\n      <td>10</td>\n      <td>17</td>\n    </tr>\n    <tr>\n      <th>10</th>\n      <td>Trouble</td>\n      <td>LUCKY TAPES</td>\n      <td>11</td>\n      <td>NaN</td>\n    </tr>\n    <tr>\n      <th>11</th>\n      <td>Favorite Rendezvous</td>\n      <td>大橋トリオ</td>\n      <td>12</td>\n      <td>NaN</td>\n    </tr>\n    <tr>\n      <th>12</th>\n      <td>何言ってるか分かんないけど何かいい感じ</td>\n      <td>Okayuka</td>\n      <td>13</td>\n      <td>NaN</td>\n    </tr>\n    <tr>\n      <th>13</th>\n      <td>Letter</td>\n      <td>Surrounded By Enemies</td>\n      <td>14</td>\n      <td>12</td>\n    </tr>\n    <tr>\n      <th>14</th>\n      <td>Out of Reach</td>\n      <td>BANANAGUN</td>\n      <td>15</td>\n      <td>13</td>\n    </tr>\n    <tr>\n      <th>15</th>\n      <td>Juliet</td>\n      <td>D.Y.T</td>\n      <td>16</td>\n      <td>9</td>\n    </tr>\n    <tr>\n      <th>16</th>\n      <td>あのねこの話 feat. クボタカイ</td>\n      <td>みゆな</td>\n      <td>17</td>\n      <td>NaN</td>\n    </tr>\n    <tr>\n      <th>17</th>\n      <td>東京は燃えてる</td>\n      <td>GLIM SPANKY</td>\n      <td>18</td>\n      <td>10</td>\n    </tr>\n    <tr>\n      <th>18</th>\n      <td>GO STRAIGHT</td>\n      <td>クニタケ ヒロキ　from THE FOREVER YOUNG</td>\n      <td>19</td>\n      <td>NaN</td>\n    </tr>\n    <tr>\n      <th>19</th>\n      <td>夜とシンセサイザー</td>\n      <td>Lucky Kilimanjaro</td>\n      <td>20</td>\n      <td>NaN</td>\n    </tr>\n    <tr>\n      <th>20</th>\n      <td>大迷惑星。</td>\n      <td>當山みれい</td>\n      <td>21</td>\n      <td>NaN</td>\n    </tr>\n    <tr>\n      <th>21</th>\n      <td>When We Disco (Duet with SUNMI) -Japanese ver.-</td>\n      <td>J.Y. Park</td>\n      <td>22</td>\n      <td>NaN</td>\n    </tr>\n    <tr>\n      <th>22</th>\n      <td>アカシア</td>\n      <td>BUMP OF CHICKEN</td>\n      <td>23</td>\n      <td>15</td>\n    </tr>\n    <tr>\n      <th>23</th>\n      <td>化かしHOUR NIGHT</td>\n      <td>ビッケブランカ VS 岡崎体育</td>\n      <td>24</td>\n      <td>11</td>\n    </tr>\n    <tr>\n      <th>24</th>\n      <td>未来予想図II - DOSCO prime Version -</td>\n      <td>DREAMS COME TRUE</td>\n      <td>25</td>\n      <td>16</td>\n    </tr>\n    <tr>\n      <th>25</th>\n      <td>Love Your Love</td>\n      <td>竹内アンナ</td>\n      <td>26</td>\n      <td>NaN</td>\n    </tr>\n    <tr>\n      <th>26</th>\n      <td>The Moment</td>\n      <td>Ryohu</td>\n      <td>27</td>\n      <td>NaN</td>\n    </tr>\n    <tr>\n      <th>27</th>\n      <td>Here We Go Around Again (1990)</td>\n      <td>Mariah Carey</td>\n      <td>28</td>\n      <td>24</td>\n    </tr>\n    <tr>\n      <th>28</th>\n      <td>Love Looks Better</td>\n      <td>Alicia　Keys</td>\n      <td>29</td>\n      <td>NaN</td>\n    </tr>\n    <tr>\n      <th>29</th>\n      <td>ダイアローグ</td>\n      <td>ASIAN KUNG-FU GENERATION</td>\n      <td>30</td>\n      <td>NaN</td>\n    </tr>\n    <tr>\n      <th>30</th>\n      <td>ランドリー</td>\n      <td>LUCKY TAPES</td>\n      <td>NaN</td>\n      <td>18</td>\n    </tr>\n    <tr>\n      <th>31</th>\n      <td>炎</td>\n      <td>LiSA</td>\n      <td>NaN</td>\n      <td>19</td>\n    </tr>\n    <tr>\n      <th>32</th>\n      <td>風を食む</td>\n      <td>ヨルシカ</td>\n      <td>NaN</td>\n      <td>20</td>\n    </tr>\n    <tr>\n      <th>33</th>\n      <td>Bill</td>\n      <td>Naz</td>\n      <td>NaN</td>\n      <td>21</td>\n    </tr>\n    <tr>\n      <th>34</th>\n      <td>あの子のダーリン</td>\n      <td>カノエラナ</td>\n      <td>NaN</td>\n      <td>22</td>\n    </tr>\n    <tr>\n      <th>35</th>\n      <td>DeadRock</td>\n      <td>みゆな</td>\n      <td>NaN</td>\n      <td>23</td>\n    </tr>\n    <tr>\n      <th>36</th>\n      <td>ティーンエイジペイン</td>\n      <td>林萌々子</td>\n      <td>NaN</td>\n      <td>25</td>\n    </tr>\n    <tr>\n      <th>37</th>\n      <td>落日</td>\n      <td>森山直太朗</td>\n      <td>NaN</td>\n      <td>26</td>\n    </tr>\n    <tr>\n      <th>38</th>\n      <td>Say So -Japanese version- tofubeats Remix</td>\n      <td>Rainych</td>\n      <td>NaN</td>\n      <td>27</td>\n    </tr>\n    <tr>\n      <th>39</th>\n      <td>Singin' for...</td>\n      <td>和楽器バンド</td>\n      <td>NaN</td>\n      <td>28</td>\n    </tr>\n    <tr>\n      <th>40</th>\n      <td>お願いマーシー</td>\n      <td>THE COLLECTORS</td>\n      <td>NaN</td>\n      <td>29</td>\n    </tr>\n    <tr>\n      <th>41</th>\n      <td>EYE</td>\n      <td>LAMP IN TERREN</td>\n      <td>NaN</td>\n      <td>30</td>\n    </tr>\n  </tbody>\n</table>\n</div>"
     },
     "metadata": {}
    }
   ],
   "source": [
    "# カラム名の取得\n",
    "columns = dfRank.columns.to_list()\n",
    "# 検索\n",
    "for l in tableThisweek:\n",
    "    print(l)\n",
    "    # titleで検索\n",
    "    dfCheck1 = dfRank[dfRank[columns[0]]==l[3]]\n",
    "    if dfCheck1.shape[0] == 0:\n",
    "        # artistで検索\n",
    "        dfCheck2 = dfCheck1[dfCheck1[columns[1]]==l[4]]\n",
    "        # どちらでもヒットしなかった時に新しく追加\n",
    "        if dfCheck2.shape[0] == 0:\n",
    "            print(l[3])\n",
    "            dfRank = dfRank.append({columns[0]:l[3],columns[1]:l[4],date:l[0]} ,ignore_index=True)\n",
    "    elif dfCheck1.shape[0] == 1:\n",
    "        # artistで検索\n",
    "        dfCheck2 = dfCheck1[dfCheck1[columns[1]]==l[4]]\n",
    "        # どちらでもヒットした時にカラムに順位を追加\n",
    "        if dfCheck2.shape[0] == 1:\n",
    "            idx = dfRank.query('{} == \"{}\"'.format(columns[0],l[3])).index[0]\n",
    "            dfRank.loc[idx,date] = l[0]\n",
    "\n",
    "display(dfRank)"
   ]
  },
  {
   "cell_type": "code",
   "execution_count": null,
   "metadata": {},
   "outputs": [],
   "source": []
  }
 ]
}